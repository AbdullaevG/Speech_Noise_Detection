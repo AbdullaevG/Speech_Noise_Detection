{
 "cells": [
  {
   "cell_type": "code",
   "execution_count": 1,
   "id": "8685aeac",
   "metadata": {},
   "outputs": [],
   "source": [
    "import glob\n",
    "import pandas as pd\n",
    "import os\n",
    "import librosa\n",
    "import numpy as np\n",
    "import torch\n",
    "from torch.utils.data import Dataset, DataLoader"
   ]
  },
  {
   "cell_type": "code",
   "execution_count": 8,
   "id": "41866fde",
   "metadata": {},
   "outputs": [],
   "source": [
    "count = 2000\n",
    "df = pd.read_csv(\"correct_data.csv\")\n",
    "root = \"../frames/\"\n",
    "files = df.file.values[:count]\n",
    "files = df.file.values[:count]\n",
    "targets = df.target.values[:count]"
   ]
  },
  {
   "cell_type": "code",
   "execution_count": 9,
   "id": "07fa30a0",
   "metadata": {},
   "outputs": [],
   "source": [
    "files = [\"Audio_files/laugh_1.wav\"]\n",
    "targets = [\"0\"*201]"
   ]
  },
  {
   "cell_type": "code",
   "execution_count": 19,
   "id": "6d36f9d2",
   "metadata": {},
   "outputs": [],
   "source": [
    "def write_tensor_files_mod(files, targets):\n",
    "    save_folder = \"../data/\"\n",
    "    for i, file in enumerate(files):\n",
    "        pref = \"../\"\n",
    "        file_path = pref + file\n",
    "        aud, sr = librosa.load(file_path, sr = None)\n",
    "        if aud.shape[0] > 320_000:\n",
    "            aud = aud[:320_000]\n",
    "        win_len = int(sr * 0.2)\n",
    "        hop = int(sr * 0.05)\n",
    "        aud_idx = 0\n",
    "        target = targets[i]\n",
    "        for j in range(len(target)-1):\n",
    "            temp_len = len(aud[aud_idx:aud_idx + win_len])\n",
    "            \n",
    "            \n",
    "            if temp_len < 6400:\n",
    "                pad_len = 6400 - temp_len\n",
    "                temp_aud = np.pad(aud, pad_len, mode = \"reflect\")[pad_len:]\n",
    "                torch.save(torch.tensor(temp_aud[aud_idx:aud_idx + win_len], dtype = torch.float32), \n",
    "                           root + file + str(np.random.randint(0, 10000)) + str(j) + \".pt\")\n",
    "                \n",
    "            else:\n",
    "                torch.save(torch.tensor(aud[aud_idx:aud_idx + win_len], dtype = torch.float32), \n",
    "                           root + file[:-4] + str(np.random.randint(0, 10000)) + str(j) + \".pt\")\n",
    "            aud_idx += hop    \n",
    "                \n",
    "write_tensor_files_mod(files, targets)       "
   ]
  },
  {
   "cell_type": "code",
   "execution_count": 224,
   "id": "7e9da6c3",
   "metadata": {},
   "outputs": [
    {
     "name": "stdout",
     "output_type": "stream",
     "text": [
      "The history saving thread hit an unexpected error (OperationalError('database or disk is full')).History will not be written to the database.\n"
     ]
    },
    {
     "data": {
      "text/plain": [
       "296537"
      ]
     },
     "execution_count": 224,
     "metadata": {},
     "output_type": "execute_result"
    }
   ],
   "source": [
    "split_ = lambda x: x.split(\"/\")[-1]\n",
    "\n",
    "def find_tensor_files(root):\n",
    "    return list(map(split_, glob.glob(root + \"*\")))\n",
    "\n",
    "all_tensor_files = find_tensor_files(root)\n",
    "len(all_tensor_files)"
   ]
  },
  {
   "cell_type": "code",
   "execution_count": 225,
   "id": "6b42308b",
   "metadata": {},
   "outputs": [
    {
     "data": {
      "text/plain": [
       "'9fDTV2zd4Yo_30.wav&*&132.pt'"
      ]
     },
     "execution_count": 225,
     "metadata": {},
     "output_type": "execute_result"
    }
   ],
   "source": [
    "all_tensor_files[5]\n"
   ]
  },
  {
   "cell_type": "code",
   "execution_count": 89,
   "id": "741adf74",
   "metadata": {},
   "outputs": [],
   "source": [
    "def num_frames(file):\n",
    "    path = 'data_32/' + file\n",
    "    aud, sr = librosa.load(path, sr = None)\n",
    "    return aud.shape[0] / (0.05 * sr)"
   ]
  },
  {
   "cell_type": "code",
   "execution_count": 90,
   "id": "2d1402a0",
   "metadata": {},
   "outputs": [],
   "source": [
    "df['num_frames'] = df['file'].apply(num_frames)"
   ]
  },
  {
   "cell_type": "code",
   "execution_count": 193,
   "id": "ee308856",
   "metadata": {},
   "outputs": [
    {
     "data": {
      "text/html": [
       "<div>\n",
       "<style scoped>\n",
       "    .dataframe tbody tr th:only-of-type {\n",
       "        vertical-align: middle;\n",
       "    }\n",
       "\n",
       "    .dataframe tbody tr th {\n",
       "        vertical-align: top;\n",
       "    }\n",
       "\n",
       "    .dataframe thead th {\n",
       "        text-align: right;\n",
       "    }\n",
       "</style>\n",
       "<table border=\"1\" class=\"dataframe\">\n",
       "  <thead>\n",
       "    <tr style=\"text-align: right;\">\n",
       "      <th></th>\n",
       "      <th>file</th>\n",
       "      <th>category</th>\n",
       "      <th>target</th>\n",
       "    </tr>\n",
       "  </thead>\n",
       "  <tbody>\n",
       "    <tr>\n",
       "      <th>0</th>\n",
       "      <td>4GV3Cd2upt8_30.wav</td>\n",
       "      <td>printer</td>\n",
       "      <td>0000000000000000000000000000000000000000000000...</td>\n",
       "    </tr>\n",
       "    <tr>\n",
       "      <th>1</th>\n",
       "      <td>6fSCG3bLEio_70.wav</td>\n",
       "      <td>typing</td>\n",
       "      <td>0000000000000000000000000000000000000000000000...</td>\n",
       "    </tr>\n",
       "    <tr>\n",
       "      <th>2</th>\n",
       "      <td>JP2sPYB_Bhs_30.wav</td>\n",
       "      <td>printer</td>\n",
       "      <td>0000000000000000000000000000000000000000000000...</td>\n",
       "    </tr>\n",
       "    <tr>\n",
       "      <th>3</th>\n",
       "      <td>8jNYEw7ztUE_90.wav</td>\n",
       "      <td>laughter</td>\n",
       "      <td>1111111000000000000000000000000000000000000000...</td>\n",
       "    </tr>\n",
       "    <tr>\n",
       "      <th>4</th>\n",
       "      <td>E2bFAoGuCBU_23.wav</td>\n",
       "      <td>white</td>\n",
       "      <td>0000000000000000000000000000000000000000000000...</td>\n",
       "    </tr>\n",
       "    <tr>\n",
       "      <th>5</th>\n",
       "      <td>KGJK1UO-F4k_230.wav</td>\n",
       "      <td>conservation</td>\n",
       "      <td>0000000000000000000000000000000000000000000000...</td>\n",
       "    </tr>\n",
       "    <tr>\n",
       "      <th>6</th>\n",
       "      <td>6IFr_7q3NZo_150.wav</td>\n",
       "      <td>laughter</td>\n",
       "      <td>0000000000001111111111111100000000000000000000...</td>\n",
       "    </tr>\n",
       "    <tr>\n",
       "      <th>7</th>\n",
       "      <td>I8tnpoJSDRE_30.wav</td>\n",
       "      <td>white</td>\n",
       "      <td>0000000000000000000000000000000000000000000000...</td>\n",
       "    </tr>\n",
       "    <tr>\n",
       "      <th>8</th>\n",
       "      <td>Mt5wTIMQMGE_300.wav</td>\n",
       "      <td>white</td>\n",
       "      <td>0000000000000000000000000000000000000000000000...</td>\n",
       "    </tr>\n",
       "    <tr>\n",
       "      <th>9</th>\n",
       "      <td>2YGDu50akBc_10.wav</td>\n",
       "      <td>laughter</td>\n",
       "      <td>0000000000000000000000000000000000000000000000...</td>\n",
       "    </tr>\n",
       "    <tr>\n",
       "      <th>10</th>\n",
       "      <td>LKi_DwqbGKc_30.wav</td>\n",
       "      <td>printer</td>\n",
       "      <td>0000000000000000000000000000000000000000000000...</td>\n",
       "    </tr>\n",
       "    <tr>\n",
       "      <th>11</th>\n",
       "      <td>4AUtgC1dPwA_29.wav</td>\n",
       "      <td>white</td>\n",
       "      <td>0000000000000000000000000000000000000000000000...</td>\n",
       "    </tr>\n",
       "    <tr>\n",
       "      <th>12</th>\n",
       "      <td>4Fq83h_zrFY_30.wav</td>\n",
       "      <td>laughter</td>\n",
       "      <td>0000000000000000000000000000000000000000000000...</td>\n",
       "    </tr>\n",
       "    <tr>\n",
       "      <th>13</th>\n",
       "      <td>4Fq83h_zrFY_30.wav</td>\n",
       "      <td>chuckle</td>\n",
       "      <td>0000000000000000000000000000000000000000000000...</td>\n",
       "    </tr>\n",
       "    <tr>\n",
       "      <th>14</th>\n",
       "      <td>EJUNUPUFuj0_20.wav</td>\n",
       "      <td>laughter</td>\n",
       "      <td>1111111111111111111111111111111111111111111111...</td>\n",
       "    </tr>\n",
       "    <tr>\n",
       "      <th>15</th>\n",
       "      <td>IyDMlQ0EEHw_0.wav</td>\n",
       "      <td>laughter</td>\n",
       "      <td>0000000000000000000000000000000000000000000000...</td>\n",
       "    </tr>\n",
       "    <tr>\n",
       "      <th>16</th>\n",
       "      <td>D1JoR_yBXD4_30.wav</td>\n",
       "      <td>snicker</td>\n",
       "      <td>0000000000000000000000000000000000000000000000...</td>\n",
       "    </tr>\n",
       "  </tbody>\n",
       "</table>\n",
       "</div>"
      ],
      "text/plain": [
       "                   file      category  \\\n",
       "0    4GV3Cd2upt8_30.wav       printer   \n",
       "1    6fSCG3bLEio_70.wav        typing   \n",
       "2    JP2sPYB_Bhs_30.wav       printer   \n",
       "3    8jNYEw7ztUE_90.wav      laughter   \n",
       "4    E2bFAoGuCBU_23.wav         white   \n",
       "5   KGJK1UO-F4k_230.wav  conservation   \n",
       "6   6IFr_7q3NZo_150.wav      laughter   \n",
       "7    I8tnpoJSDRE_30.wav         white   \n",
       "8   Mt5wTIMQMGE_300.wav         white   \n",
       "9    2YGDu50akBc_10.wav      laughter   \n",
       "10   LKi_DwqbGKc_30.wav       printer   \n",
       "11   4AUtgC1dPwA_29.wav         white   \n",
       "12   4Fq83h_zrFY_30.wav      laughter   \n",
       "13   4Fq83h_zrFY_30.wav       chuckle   \n",
       "14   EJUNUPUFuj0_20.wav      laughter   \n",
       "15    IyDMlQ0EEHw_0.wav      laughter   \n",
       "16   D1JoR_yBXD4_30.wav       snicker   \n",
       "\n",
       "                                               target  \n",
       "0   0000000000000000000000000000000000000000000000...  \n",
       "1   0000000000000000000000000000000000000000000000...  \n",
       "2   0000000000000000000000000000000000000000000000...  \n",
       "3   1111111000000000000000000000000000000000000000...  \n",
       "4   0000000000000000000000000000000000000000000000...  \n",
       "5   0000000000000000000000000000000000000000000000...  \n",
       "6   0000000000001111111111111100000000000000000000...  \n",
       "7   0000000000000000000000000000000000000000000000...  \n",
       "8   0000000000000000000000000000000000000000000000...  \n",
       "9   0000000000000000000000000000000000000000000000...  \n",
       "10  0000000000000000000000000000000000000000000000...  \n",
       "11  0000000000000000000000000000000000000000000000...  \n",
       "12  0000000000000000000000000000000000000000000000...  \n",
       "13  0000000000000000000000000000000000000000000000...  \n",
       "14  1111111111111111111111111111111111111111111111...  \n",
       "15  0000000000000000000000000000000000000000000000...  \n",
       "16  0000000000000000000000000000000000000000000000...  "
      ]
     },
     "execution_count": 193,
     "metadata": {},
     "output_type": "execute_result"
    }
   ],
   "source": [
    "df.head(17)"
   ]
  },
  {
   "cell_type": "code",
   "execution_count": 93,
   "id": "bcc9b587",
   "metadata": {},
   "outputs": [
    {
     "data": {
      "text/plain": [
       "(983, 5)"
      ]
     },
     "execution_count": 93,
     "metadata": {},
     "output_type": "execute_result"
    }
   ],
   "source": [
    "df[df['num_frames'] != df['target_len']-1].shape"
   ]
  },
  {
   "cell_type": "code",
   "execution_count": 197,
   "id": "3404bc39",
   "metadata": {},
   "outputs": [],
   "source": [
    "df['target_len'] = df[\"target\"].apply(len)"
   ]
  },
  {
   "cell_type": "code",
   "execution_count": 198,
   "id": "d729bff2",
   "metadata": {},
   "outputs": [
    {
     "data": {
      "text/html": [
       "<div>\n",
       "<style scoped>\n",
       "    .dataframe tbody tr th:only-of-type {\n",
       "        vertical-align: middle;\n",
       "    }\n",
       "\n",
       "    .dataframe tbody tr th {\n",
       "        vertical-align: top;\n",
       "    }\n",
       "\n",
       "    .dataframe thead th {\n",
       "        text-align: right;\n",
       "    }\n",
       "</style>\n",
       "<table border=\"1\" class=\"dataframe\">\n",
       "  <thead>\n",
       "    <tr style=\"text-align: right;\">\n",
       "      <th></th>\n",
       "      <th>file</th>\n",
       "      <th>category</th>\n",
       "      <th>target</th>\n",
       "      <th>target_len</th>\n",
       "    </tr>\n",
       "  </thead>\n",
       "  <tbody>\n",
       "    <tr>\n",
       "      <th>0</th>\n",
       "      <td>4GV3Cd2upt8_30.wav</td>\n",
       "      <td>printer</td>\n",
       "      <td>0000000000000000000000000000000000000000000000...</td>\n",
       "      <td>201</td>\n",
       "    </tr>\n",
       "    <tr>\n",
       "      <th>1</th>\n",
       "      <td>6fSCG3bLEio_70.wav</td>\n",
       "      <td>typing</td>\n",
       "      <td>0000000000000000000000000000000000000000000000...</td>\n",
       "      <td>201</td>\n",
       "    </tr>\n",
       "    <tr>\n",
       "      <th>2</th>\n",
       "      <td>JP2sPYB_Bhs_30.wav</td>\n",
       "      <td>printer</td>\n",
       "      <td>0000000000000000000000000000000000000000000000...</td>\n",
       "      <td>201</td>\n",
       "    </tr>\n",
       "  </tbody>\n",
       "</table>\n",
       "</div>"
      ],
      "text/plain": [
       "                 file category  \\\n",
       "0  4GV3Cd2upt8_30.wav  printer   \n",
       "1  6fSCG3bLEio_70.wav   typing   \n",
       "2  JP2sPYB_Bhs_30.wav  printer   \n",
       "\n",
       "                                              target  target_len  \n",
       "0  0000000000000000000000000000000000000000000000...         201  \n",
       "1  0000000000000000000000000000000000000000000000...         201  \n",
       "2  0000000000000000000000000000000000000000000000...         201  "
      ]
     },
     "execution_count": 198,
     "metadata": {},
     "output_type": "execute_result"
    }
   ],
   "source": [
    "df.head(3)"
   ]
  },
  {
   "cell_type": "code",
   "execution_count": 212,
   "id": "4ac6961f",
   "metadata": {},
   "outputs": [
    {
     "name": "stderr",
     "output_type": "stream",
     "text": [
      "/tmp/ipykernel_1311333/1792783503.py:1: UserWarning: Boolean Series key will be reindexed to match DataFrame index.\n",
      "  df.head(100)[df['target_len'] < 201]\n"
     ]
    },
    {
     "data": {
      "text/html": [
       "<div>\n",
       "<style scoped>\n",
       "    .dataframe tbody tr th:only-of-type {\n",
       "        vertical-align: middle;\n",
       "    }\n",
       "\n",
       "    .dataframe tbody tr th {\n",
       "        vertical-align: top;\n",
       "    }\n",
       "\n",
       "    .dataframe thead th {\n",
       "        text-align: right;\n",
       "    }\n",
       "</style>\n",
       "<table border=\"1\" class=\"dataframe\">\n",
       "  <thead>\n",
       "    <tr style=\"text-align: right;\">\n",
       "      <th></th>\n",
       "      <th>file</th>\n",
       "      <th>category</th>\n",
       "      <th>target</th>\n",
       "      <th>target_len</th>\n",
       "    </tr>\n",
       "  </thead>\n",
       "  <tbody>\n",
       "    <tr>\n",
       "      <th>4</th>\n",
       "      <td>E2bFAoGuCBU_23.wav</td>\n",
       "      <td>white</td>\n",
       "      <td>0000000000000000000000000000000000000000000000...</td>\n",
       "      <td>181</td>\n",
       "    </tr>\n",
       "    <tr>\n",
       "      <th>11</th>\n",
       "      <td>4AUtgC1dPwA_29.wav</td>\n",
       "      <td>white</td>\n",
       "      <td>0000000000000000000000000000000000000000000000...</td>\n",
       "      <td>189</td>\n",
       "    </tr>\n",
       "    <tr>\n",
       "      <th>20</th>\n",
       "      <td>Ba8fS5iv1_Y_20.wav</td>\n",
       "      <td>conservation</td>\n",
       "      <td>0000000000000000000000000000000000000000000000...</td>\n",
       "      <td>193</td>\n",
       "    </tr>\n",
       "    <tr>\n",
       "      <th>30</th>\n",
       "      <td>MVjJAGC0UAY_3.wav</td>\n",
       "      <td>printer</td>\n",
       "      <td>0000000000000000000000000000000000000000000000...</td>\n",
       "      <td>195</td>\n",
       "    </tr>\n",
       "    <tr>\n",
       "      <th>53</th>\n",
       "      <td>MG3g4sfSxXo_0.wav</td>\n",
       "      <td>giggle</td>\n",
       "      <td>0000000000000000000000000000000000000000000000...</td>\n",
       "      <td>200</td>\n",
       "    </tr>\n",
       "    <tr>\n",
       "      <th>81</th>\n",
       "      <td>7TXDyi7BacU_0.wav</td>\n",
       "      <td>white</td>\n",
       "      <td>0000000000000000000000000000000000000000000000...</td>\n",
       "      <td>200</td>\n",
       "    </tr>\n",
       "    <tr>\n",
       "      <th>83</th>\n",
       "      <td>AM0IH1SUJa8_0.wav</td>\n",
       "      <td>laughter</td>\n",
       "      <td>0000000000000000000000000000000000000000000000...</td>\n",
       "      <td>82</td>\n",
       "    </tr>\n",
       "    <tr>\n",
       "      <th>91</th>\n",
       "      <td>LZqGPfZIojo_7.wav</td>\n",
       "      <td>printer</td>\n",
       "      <td>0000000000000000000000000000000000000000000000...</td>\n",
       "      <td>195</td>\n",
       "    </tr>\n",
       "    <tr>\n",
       "      <th>93</th>\n",
       "      <td>KdPKmF_in8s_14.wav</td>\n",
       "      <td>white</td>\n",
       "      <td>0000000000000000000000000000000000000000000000...</td>\n",
       "      <td>181</td>\n",
       "    </tr>\n",
       "    <tr>\n",
       "      <th>94</th>\n",
       "      <td>Fub2Ll-Xfec_12.wav</td>\n",
       "      <td>white</td>\n",
       "      <td>0000000000000000000000000000000000000000000000...</td>\n",
       "      <td>189</td>\n",
       "    </tr>\n",
       "    <tr>\n",
       "      <th>95</th>\n",
       "      <td>KvjUbJ2YQOo_13.wav</td>\n",
       "      <td>snicker</td>\n",
       "      <td>0000000000000000000111111111111111111111111111...</td>\n",
       "      <td>182</td>\n",
       "    </tr>\n",
       "  </tbody>\n",
       "</table>\n",
       "</div>"
      ],
      "text/plain": [
       "                  file      category  \\\n",
       "4   E2bFAoGuCBU_23.wav         white   \n",
       "11  4AUtgC1dPwA_29.wav         white   \n",
       "20  Ba8fS5iv1_Y_20.wav  conservation   \n",
       "30   MVjJAGC0UAY_3.wav       printer   \n",
       "53   MG3g4sfSxXo_0.wav        giggle   \n",
       "81   7TXDyi7BacU_0.wav         white   \n",
       "83   AM0IH1SUJa8_0.wav      laughter   \n",
       "91   LZqGPfZIojo_7.wav       printer   \n",
       "93  KdPKmF_in8s_14.wav         white   \n",
       "94  Fub2Ll-Xfec_12.wav         white   \n",
       "95  KvjUbJ2YQOo_13.wav       snicker   \n",
       "\n",
       "                                               target  target_len  \n",
       "4   0000000000000000000000000000000000000000000000...         181  \n",
       "11  0000000000000000000000000000000000000000000000...         189  \n",
       "20  0000000000000000000000000000000000000000000000...         193  \n",
       "30  0000000000000000000000000000000000000000000000...         195  \n",
       "53  0000000000000000000000000000000000000000000000...         200  \n",
       "81  0000000000000000000000000000000000000000000000...         200  \n",
       "83  0000000000000000000000000000000000000000000000...          82  \n",
       "91  0000000000000000000000000000000000000000000000...         195  \n",
       "93  0000000000000000000000000000000000000000000000...         181  \n",
       "94  0000000000000000000000000000000000000000000000...         189  \n",
       "95  0000000000000000000111111111111111111111111111...         182  "
      ]
     },
     "execution_count": 212,
     "metadata": {},
     "output_type": "execute_result"
    }
   ],
   "source": [
    "df.head(100)[df['target_len'] < 201]\n",
    "\n",
    "\n"
   ]
  },
  {
   "cell_type": "code",
   "execution_count": 5,
   "id": "15fe1671",
   "metadata": {},
   "outputs": [
    {
     "data": {
      "text/plain": [
       "0"
      ]
     },
     "execution_count": 5,
     "metadata": {},
     "output_type": "execute_result"
    }
   ],
   "source": [
    "# Проверим заканчивается ли название файла символами --\n",
    "all_files = df.file\n",
    "\n",
    "isend = lambda x: x[:-4].endswith(\"--\")\n",
    "all_files.map(isend).sum()"
   ]
  },
  {
   "cell_type": "code",
   "execution_count": 139,
   "id": "c7eaa784",
   "metadata": {},
   "outputs": [
    {
     "data": {
      "text/plain": [
       "'2YGDu50akBc_10.wav&*&182.pt'"
      ]
     },
     "execution_count": 139,
     "metadata": {},
     "output_type": "execute_result"
    }
   ],
   "source": [
    "all_tensor_files[11]"
   ]
  },
  {
   "cell_type": "code",
   "execution_count": 171,
   "id": "3f5594fe",
   "metadata": {},
   "outputs": [
    {
     "data": {
      "text/plain": [
       "'2YGDu50akBc_10.wav'"
      ]
     },
     "execution_count": 171,
     "metadata": {},
     "output_type": "execute_result"
    }
   ],
   "source": [
    "files[9]"
   ]
  },
  {
   "cell_type": "code",
   "execution_count": 216,
   "id": "5ec95bfc",
   "metadata": {},
   "outputs": [],
   "source": [
    "ex_file = \"KvjUbJ2YQOo_13.wav\"\n",
    "res = []\n",
    "for file in all_tensor_files:\n",
    "    \n",
    "    if file.startswith(ex_file[:-4]):\n",
    "        res.append(int(file.split(\"&*&\")[-1][:-3]))"
   ]
  },
  {
   "cell_type": "code",
   "execution_count": 217,
   "id": "f800ade4",
   "metadata": {},
   "outputs": [
    {
     "data": {
      "text/plain": [
       "180"
      ]
     },
     "execution_count": 217,
     "metadata": {},
     "output_type": "execute_result"
    }
   ],
   "source": [
    "max(res)"
   ]
  },
  {
   "cell_type": "code",
   "execution_count": 218,
   "id": "fb83075b",
   "metadata": {},
   "outputs": [
    {
     "data": {
      "text/html": [
       "<div>\n",
       "<style scoped>\n",
       "    .dataframe tbody tr th:only-of-type {\n",
       "        vertical-align: middle;\n",
       "    }\n",
       "\n",
       "    .dataframe tbody tr th {\n",
       "        vertical-align: top;\n",
       "    }\n",
       "\n",
       "    .dataframe thead th {\n",
       "        text-align: right;\n",
       "    }\n",
       "</style>\n",
       "<table border=\"1\" class=\"dataframe\">\n",
       "  <thead>\n",
       "    <tr style=\"text-align: right;\">\n",
       "      <th></th>\n",
       "      <th>file</th>\n",
       "      <th>category</th>\n",
       "      <th>target</th>\n",
       "      <th>target_len</th>\n",
       "    </tr>\n",
       "  </thead>\n",
       "  <tbody>\n",
       "    <tr>\n",
       "      <th>95</th>\n",
       "      <td>KvjUbJ2YQOo_13.wav</td>\n",
       "      <td>snicker</td>\n",
       "      <td>0000000000000000000111111111111111111111111111...</td>\n",
       "      <td>182</td>\n",
       "    </tr>\n",
       "  </tbody>\n",
       "</table>\n",
       "</div>"
      ],
      "text/plain": [
       "                  file category  \\\n",
       "95  KvjUbJ2YQOo_13.wav  snicker   \n",
       "\n",
       "                                               target  target_len  \n",
       "95  0000000000000000000111111111111111111111111111...         182  "
      ]
     },
     "execution_count": 218,
     "metadata": {},
     "output_type": "execute_result"
    }
   ],
   "source": [
    "df[df['file'] == ex_file]"
   ]
  },
  {
   "cell_type": "code",
   "execution_count": 221,
   "id": "f42a3f99",
   "metadata": {},
   "outputs": [
    {
     "data": {
      "text/plain": [
       "array(['00000000000000000001111111111111111111111111111111111111111111111111111111111111111111111111111111111111111110000000000000000000000000000000000000000000000000000000000000000000000000'],\n",
       "      dtype=object)"
      ]
     },
     "execution_count": 221,
     "metadata": {},
     "output_type": "execute_result"
    }
   ],
   "source": [
    "df[df['file'] == ex_file]['target'].values"
   ]
  },
  {
   "cell_type": "code",
   "execution_count": null,
   "id": "d896867d",
   "metadata": {},
   "outputs": [],
   "source": []
  }
 ],
 "metadata": {
  "kernelspec": {
   "display_name": "Python 3",
   "language": "python",
   "name": "python3"
  },
  "language_info": {
   "codemirror_mode": {
    "name": "ipython",
    "version": 3
   },
   "file_extension": ".py",
   "mimetype": "text/x-python",
   "name": "python",
   "nbconvert_exporter": "python",
   "pygments_lexer": "ipython3",
   "version": "3.8.5"
  }
 },
 "nbformat": 4,
 "nbformat_minor": 5
}
